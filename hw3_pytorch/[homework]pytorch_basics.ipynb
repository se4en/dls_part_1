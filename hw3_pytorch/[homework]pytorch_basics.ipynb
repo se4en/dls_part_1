{
 "cells": [
  {
   "cell_type": "markdown",
   "metadata": {
    "colab_type": "text",
    "id": "wscvRoo_Y2bp"
   },
   "source": [
    "<p style=\"align: center;\"><img align=center src=\"https://s8.hostingkartinok.com/uploads/images/2018/08/308b49fcfbc619d629fe4604bceb67ac.jpg\"  width=400></p>\n",
    "\n",
    "<h3 style=\"text-align: center;\"><b>Физтех-Школа Прикладной математики и информатики (ФПМИ) МФТИ</b></h3>"
   ]
  },
  {
   "cell_type": "code",
   "execution_count": 1,
   "metadata": {
    "colab": {},
    "colab_type": "code",
    "id": "Lg09ve27Y2br"
   },
   "outputs": [],
   "source": [
    "from matplotlib import pyplot as plt\n",
    "import numpy as np\n",
    "from sklearn import datasets\n",
    "from sklearn.model_selection import train_test_split\n",
    "import torch"
   ]
  },
  {
   "cell_type": "markdown",
   "metadata": {
    "colab_type": "text",
    "id": "Gbpu-GrgY2bv"
   },
   "source": [
    "### 1. Нахождение сложной производной"
   ]
  },
  {
   "cell_type": "markdown",
   "metadata": {
    "colab_type": "text",
    "id": "GZKVcvtTY2bw"
   },
   "source": [
    "Найдите производную по x от функции \n",
    "$$\\sin\\left(\\tan(x)\\frac{x^2}{y} + \\ln(e^{-x^2 + 3}+x^3y)\\right)\\tan(x^2e^{x^9})$$\n",
    "\n",
    "При этом надо пользоваться встроенным в PyTorch autograd. Численное вычисление производной может не дать нужный результат."
   ]
  },
  {
   "cell_type": "code",
   "execution_count": 2,
   "metadata": {
    "colab": {},
    "colab_type": "code",
    "id": "ihvUiIDQY2bx"
   },
   "outputs": [],
   "source": [
    "def find_x_derivative(x, y):\n",
    "    # YOUR CODE HERE\n",
    "    x = torch.tensor([x], dtype=float, requires_grad=True)\n",
    "    y = torch.tensor([y], dtype=float, requires_grad=True)\n",
    "    func = torch.sin( torch.tan(x)*torch.pow(x,2)/y + torch.log(torch.exp(-torch.pow(x,2)+3)+torch.pow(x,3)*y))*torch.tan(torch.pow(x,2)*torch.exp(torch.pow(x,9)))\n",
    "    func.backward()\n",
    "    return x.grad # YOUR CODE HERE"
   ]
  },
  {
   "cell_type": "code",
   "execution_count": 3,
   "metadata": {},
   "outputs": [
    {
     "name": "stdout",
     "output_type": "stream",
     "text": [
      "tensor([-9.0207], dtype=torch.float64)\n"
     ]
    }
   ],
   "source": [
    "print(find_x_derivative(1, 21))"
   ]
  },
  {
   "cell_type": "markdown",
   "metadata": {
    "colab_type": "text",
    "collapsed": true,
    "id": "mNbn5UzGY2b0"
   },
   "source": [
    "# 2. Нахождение косинусной близости\n",
    "\n",
    "\n",
    "Вам даны две матрицы A и B. Необходимо посчитать косинусную близость между строчками матрицы A и столбцами матрицы B. Ответ - матрица чисел, где номер строки - номер строки из матрицы А, а номер столбца - номер столбца из В, от которых бралась косинусная близость.\n",
    "\n",
    "Напомним, что косинусная близость двух векторов - косинус угла между ними. В n-мерном пространстве косинус угла между веткорами удобнее всего через скалярное произведение:\n",
    "$$\\cos(angle(x, y)) = \\frac{x \\cdot y}{\\left\\|x\\right\\| \\left\\|y\\right\\|}$$\n",
    "\n",
    "(Наша операция очень похожа на умножение матриц)"
   ]
  },
  {
   "cell_type": "code",
   "execution_count": 47,
   "metadata": {
    "colab": {},
    "colab_type": "code",
    "id": "9r2uiysQY2b1"
   },
   "outputs": [],
   "source": [
    "def get_cos_sim(A, B):\n",
    "    \"\"\"\n",
    "        A, B - torch float tensors\n",
    "    \"\"\"\n",
    "    cos_matr = torch.Tensor(A.shape[0], B.shape[1])\n",
    "    \n",
    "    # YOUR CODE HERE\n",
    "    for i in range(A.shape[0]):\n",
    "        for j in range(B.shape[1]):\n",
    "            cos_matr[i][j] = torch.sum(torch.mul(A[i], B[:,j])) / torch.sum(torch.mul(A[i], A[i])) ** .5 / torch.sum(torch.mul(B[:,j], B[:,j])) ** .5\n",
    "            \n",
    "    return cos_matr# YOUR CODE HERE"
   ]
  },
  {
   "cell_type": "code",
   "execution_count": 49,
   "metadata": {},
   "outputs": [
    {
     "data": {
      "text/plain": [
       "tensor(0.1498)"
      ]
     },
     "execution_count": 49,
     "metadata": {},
     "output_type": "execute_result"
    }
   ],
   "source": [
    "npA = np.array([[1, -47, 25, -3],\n",
    "            [10, 17, -15, 22],\n",
    "            [-3, -7, 26, 36],\n",
    "            [12, -27, -42, 0]], dtype=float)\n",
    "npB = np.array([[-50, -13, 1, 10, 1242],\n",
    "            [21, 48, -13, -14, -20],\n",
    "            [20, 15, 11, 43, 11],\n",
    "            [11, 103, 147, 27, -8]], dtype=float)\n",
    "A = torch.from_numpy(npA)\n",
    "B = torch.from_numpy(npB)\n",
    "\n",
    "torch.mean(get_cos_sim(A, B))"
   ]
  },
  {
   "cell_type": "markdown",
   "metadata": {
    "colab_type": "text",
    "id": "BR_2JtdtY2b4"
   },
   "source": [
    "# 3. Линейная регрессия\n",
    "\n",
    "Раньше мы самостоятельно считали производные, чтобы находить веса линейной регрессии с помощью градиентного спуска. Теперь нам нужно использовать для этого PyTorch и его autograd. \n",
    "\n",
    "**Важно**: на самом деле .backward не обновляет содержимое матриц с производными (some_tensor.grad), а прибавляет к ним только что посчитаные значения проивзодных. Это значит, что вызвав .backward дважды, вы получите удвоенную производную. Так как мы обновляем веса в цикле и много раз вызываем .backward, то очень быстро мы получим мусор в some_tensor.grad, если не будем его каждый раз обнулять. Таким образом, в конц итериации после использования производных обнулите значения в матрице производных для всех нужных Вам переменных. Делается это вот так \n",
    "> some\\_tensor.grad.data.zero_()"
   ]
  },
  {
   "cell_type": "code",
   "execution_count": 86,
   "metadata": {
    "colab": {},
    "colab_type": "code",
    "id": "XbuGEdgBY2b5"
   },
   "outputs": [],
   "source": [
    "class LinearRegression:\n",
    "    def get_loss(self, preds, y):\n",
    "        \"\"\"\n",
    "            @param preds: предсказания модели\n",
    "            @param y: истиные значения\n",
    "            @return mse: значение MSE на переданных данных\n",
    "        \"\"\"\n",
    "        # возьмите средний квадрат ошибки по всем выходным переменным\n",
    "        # то есть сумму квадратов ошибки надо поделить на количество_элементов * количество_таргетов\n",
    "        return ((preds-y)**2).mean()\n",
    "    \n",
    "    def init_weights(self, input_size, output_size):\n",
    "        \"\"\"\n",
    "            Инициализирует параметры модели\n",
    "            W - матрица размерности (input_size, output_size)\n",
    "            инициализируется рандомными числами из\n",
    "            uniform распределения (torch.rand())\n",
    "            b - вектор размерности (1, output_size)\n",
    "            инициализируется нулями\n",
    "        \"\"\"\n",
    "        torch.manual_seed(0) #необходимо для воспроизводимости результатов\n",
    "        self.W = torch.rand(input_size, output_size,  requires_grad=True)\n",
    "        self.b = torch.zeros(1, output_size, requires_grad=True)\n",
    "\n",
    "    def fit(self, X, y, num_epochs=1000, lr=0.001):\n",
    "        \"\"\"\n",
    "            Обучение модели линейной регрессии методом градиентного спуска\n",
    "            @param X: размерности (num_samples, input_shape)\n",
    "            @param y: размерности (num_samples, output_shape)\n",
    "            @param num_epochs: количество итераций градиентного спуска\n",
    "            @param lr: шаг градиентного спуска\n",
    "            @return metrics: вектор значений MSE на каждом шаге градиентного\n",
    "            спуска.\n",
    "        \"\"\"\n",
    "        self.init_weights(X.shape[1], y.shape[1])\n",
    "        metrics = []\n",
    "        for _ in range(num_epochs):\n",
    "            preds = self.predict(X)\n",
    "            # сделайте вычисления градиентов c помощью Pytorch и обновите веса\n",
    "            # осторожнее, оберните вычитание градиента в \n",
    "#                 with torch.no_grad():\n",
    "#                     #some code\n",
    "            # иначе во время прибавления градиента к переменной создастся очень много нод в дереве операций\n",
    "            # и ваши модели в будущем будут падать от нехватки памяти\n",
    "            #YOUR_CODE\n",
    "            loss = self.get_loss(preds, y)\n",
    "            loss.backward()\n",
    "            with torch.no_grad():\n",
    "                self.W -= lr*self.W.grad\n",
    "                self.b -= lr*self.b.grad\n",
    "                self.W.grad.data.zero_()\n",
    "                self.b.grad.data.zero_()\n",
    "            metrics.append(self.get_loss(preds, y).data)\n",
    "        return metrics\n",
    "\n",
    "    def predict(self, X):\n",
    "        \"\"\"\n",
    "            Думаю, тут все понятно. Сделайте свои предсказания :)\n",
    "        \"\"\"\n",
    "        return X @ self.W + self.b"
   ]
  },
  {
   "cell_type": "markdown",
   "metadata": {
    "colab_type": "text",
    "id": "QQ8GJjFKaY6r"
   },
   "source": [
    "1. Сгенерируйте данные с помощью make_regression с параметрами n_targets=3, n_features=2, noise=10, random_state=42. \n",
    "2. Обучите модель линейной регрессии, оставив в fit параметры num_epochs и lr по умолчанию (обратите внимание, что перед обучением нужно привести данные к типу, использующимся в torch) \n",
    "2. Посчитайте среднее значение метрики MSE по всем итерациям цикла в fit (массив из значений MSE на каждой итерации возвращается из метода fit). Ответом, который необходимо сдать в систему, будет число, округленное до 3х знаков после запятой."
   ]
  },
  {
   "cell_type": "code",
   "execution_count": 87,
   "metadata": {
    "colab": {},
    "colab_type": "code",
    "id": "zOVkSg_0Y2b8"
   },
   "outputs": [],
   "source": [
    "X, Y = datasets.make_regression(n_targets=3, n_features=2, noise=10, random_state=42)\n",
    "X = torch.from_numpy(X).float()\n",
    "Y = torch.from_numpy(Y).float()\n",
    "model = LinearRegression()\n",
    "mse = model.fit(X, Y)"
   ]
  },
  {
   "cell_type": "code",
   "execution_count": 88,
   "metadata": {
    "colab": {},
    "colab_type": "code",
    "id": "oMgiJA_Va6g_"
   },
   "outputs": [
    {
     "name": "stdout",
     "output_type": "stream",
     "text": [
      "4256.561\n"
     ]
    }
   ],
   "source": [
    "print(np.mean(mse))"
   ]
  },
  {
   "cell_type": "markdown",
   "metadata": {
    "colab_type": "text",
    "id": "iJVuCWOxbACZ"
   },
   "source": [
    "Здесь предлагаем протестировать метод predict удобным вам образом."
   ]
  },
  {
   "cell_type": "code",
   "execution_count": 0,
   "metadata": {
    "colab": {},
    "colab_type": "code",
    "id": "XF5Rw27ba-mj"
   },
   "outputs": [],
   "source": [
    "#YOUR CODE"
   ]
  }
 ],
 "metadata": {
  "colab": {
   "collapsed_sections": [],
   "name": "[homework]pytorch_basics.ipynb",
   "provenance": []
  },
  "hide_input": false,
  "kernelspec": {
   "display_name": "Python 3",
   "language": "python",
   "name": "python3"
  },
  "language_info": {
   "codemirror_mode": {
    "name": "ipython",
    "version": 3
   },
   "file_extension": ".py",
   "mimetype": "text/x-python",
   "name": "python",
   "nbconvert_exporter": "python",
   "pygments_lexer": "ipython3",
   "version": "3.6.9"
  },
  "varInspector": {
   "cols": {
    "lenName": 16,
    "lenType": 16,
    "lenVar": 40
   },
   "kernels_config": {
    "python": {
     "delete_cmd_postfix": "",
     "delete_cmd_prefix": "del ",
     "library": "var_list.py",
     "varRefreshCmd": "print(var_dic_list())"
    },
    "r": {
     "delete_cmd_postfix": ") ",
     "delete_cmd_prefix": "rm(",
     "library": "var_list.r",
     "varRefreshCmd": "cat(var_dic_list()) "
    }
   },
   "types_to_exclude": [
    "module",
    "function",
    "builtin_function_or_method",
    "instance",
    "_Feature"
   ],
   "window_display": false
  }
 },
 "nbformat": 4,
 "nbformat_minor": 1
}
